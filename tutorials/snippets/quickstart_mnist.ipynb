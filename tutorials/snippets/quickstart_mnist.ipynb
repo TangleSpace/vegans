{
 "cells": [
  {
   "cell_type": "markdown",
   "metadata": {},
   "source": [
    "## Quick MNIST example\n",
    "\n",
    "#### Imports"
   ]
  },
  {
   "cell_type": "code",
   "execution_count": 22,
   "metadata": {},
   "outputs": [
    {
     "name": "stdout",
     "output_type": "stream",
     "text": [
      "ClearML Task: created new task id=8a4908469c62485bb6309bdd9ec365fd\n",
      "ClearML results page: http://clearml.mlops.unit8/projects/a66576707b9b4067aaa75a2c9c77afda/experiments/8a4908469c62485bb6309bdd9ec365fd/output/log\n",
      "2021-05-05 13:20:57,704 - clearml - WARNING - Switching to remote execution, output log page http://clearml.mlops.unit8/projects/a66576707b9b4067aaa75a2c9c77afda/experiments/8a4908469c62485bb6309bdd9ec365fd/output/log\n",
      "2021-05-05 13:20:57,705 - clearml - WARNING - Terminating local execution process\n"
     ]
    },
    {
     "ename": "NameError",
     "evalue": "name 'exit' is not defined",
     "output_type": "error",
     "traceback": [
      "\u001b[0;31m---------------------------------------------------------------------------\u001b[0m",
      "\u001b[0;31mNameError\u001b[0m                                 Traceback (most recent call last)",
      "\u001b[0;32m<ipython-input-22-a493ddde2e09>\u001b[0m in \u001b[0;36m<module>\u001b[0;34m\u001b[0m\n\u001b[1;32m      1\u001b[0m \u001b[0;32mfrom\u001b[0m \u001b[0mclearml\u001b[0m \u001b[0;32mimport\u001b[0m \u001b[0mTask\u001b[0m\u001b[0;34m\u001b[0m\u001b[0;34m\u001b[0m\u001b[0m\n\u001b[1;32m      2\u001b[0m \u001b[0mtask\u001b[0m \u001b[0;34m=\u001b[0m \u001b[0mTask\u001b[0m\u001b[0;34m.\u001b[0m\u001b[0minit\u001b[0m\u001b[0;34m(\u001b[0m\u001b[0;34m'vegans'\u001b[0m\u001b[0;34m,\u001b[0m \u001b[0;34m'mnist-toy'\u001b[0m\u001b[0;34m)\u001b[0m\u001b[0;34m\u001b[0m\u001b[0;34m\u001b[0m\u001b[0m\n\u001b[0;32m----> 3\u001b[0;31m \u001b[0mtask\u001b[0m\u001b[0;34m.\u001b[0m\u001b[0mexecute_remotely\u001b[0m\u001b[0;34m(\u001b[0m\u001b[0;34m'gpu_support'\u001b[0m\u001b[0;34m)\u001b[0m\u001b[0;34m\u001b[0m\u001b[0;34m\u001b[0m\u001b[0m\n\u001b[0m",
      "\u001b[0;32m/opt/conda/lib/python3.8/site-packages/clearml/task.py\u001b[0m in \u001b[0;36mexecute_remotely\u001b[0;34m(self, queue_name, clone, exit_process)\u001b[0m\n\u001b[1;32m   1951\u001b[0m         \u001b[0;32mif\u001b[0m \u001b[0mexit_process\u001b[0m\u001b[0;34m:\u001b[0m\u001b[0;34m\u001b[0m\u001b[0;34m\u001b[0m\u001b[0m\n\u001b[1;32m   1952\u001b[0m             \u001b[0mLoggerRoot\u001b[0m\u001b[0;34m.\u001b[0m\u001b[0mget_base_logger\u001b[0m\u001b[0;34m(\u001b[0m\u001b[0;34m)\u001b[0m\u001b[0;34m.\u001b[0m\u001b[0mwarning\u001b[0m\u001b[0;34m(\u001b[0m\u001b[0;34m'Terminating local execution process'\u001b[0m\u001b[0;34m)\u001b[0m\u001b[0;34m\u001b[0m\u001b[0;34m\u001b[0m\u001b[0m\n\u001b[0;32m-> 1953\u001b[0;31m             \u001b[0mexit\u001b[0m\u001b[0;34m(\u001b[0m\u001b[0;36m0\u001b[0m\u001b[0;34m)\u001b[0m\u001b[0;34m\u001b[0m\u001b[0;34m\u001b[0m\u001b[0m\n\u001b[0m\u001b[1;32m   1954\u001b[0m \u001b[0;34m\u001b[0m\u001b[0m\n\u001b[1;32m   1955\u001b[0m         \u001b[0;32mreturn\u001b[0m \u001b[0mtask\u001b[0m\u001b[0;34m\u001b[0m\u001b[0;34m\u001b[0m\u001b[0m\n",
      "\u001b[0;31mNameError\u001b[0m: name 'exit' is not defined"
     ]
    }
   ],
   "source": [
    "from clearml import Task\n",
    "task = Task.init('vegans', 'mnist-toy')\n",
    "task.execute_remotely('gpu_support')"
   ]
  },
  {
   "cell_type": "code",
   "execution_count": 1,
   "metadata": {},
   "outputs": [],
   "source": [
    "import os\n",
    "import sys\n",
    "sys.path.insert(0, os.path.abspath(\"../..\"))\n",
    "\n",
    "import numpy as np\n",
    "import vegans.utils.loading as loading\n",
    "from vegans.utils.utils import plot_images\n",
    "from vegans.GAN import ConditionalVanillaGAN"
   ]
  },
  {
   "cell_type": "code",
   "execution_count": 2,
   "metadata": {},
   "outputs": [
    {
     "name": "stdout",
     "output_type": "stream",
     "text": [
      "Enabling notebook extension jupyter-js-widgets/extension...\n",
      "      - Validating: \u001b[32mOK\u001b[0m\n"
     ]
    }
   ],
   "source": [
    "#! pip install ipywidgets\n",
    "#! jupyter nbextension enable --py widgetsnbextension"
   ]
  },
  {
   "cell_type": "markdown",
   "metadata": {},
   "source": [
    "#### Load Data"
   ]
  },
  {
   "cell_type": "code",
   "execution_count": 18,
   "metadata": {},
   "outputs": [
    {
     "name": "stdout",
     "output_type": "stream",
     "text": [
      "(60000, 32, 32) (10000, 32, 32)\n"
     ]
    }
   ],
   "source": [
    "root = \"../../data/\"\n",
    "X_train, y_tr, X_test, y_te = loading.load_data(root=root, which=\"mnist\", download=True)\n",
    "print(X_train.shape, X_test.shape)"
   ]
  },
  {
   "cell_type": "markdown",
   "metadata": {},
   "source": [
    "#### Preprocessing"
   ]
  },
  {
   "cell_type": "code",
   "execution_count": 19,
   "metadata": {},
   "outputs": [],
   "source": [
    "X_train = X_train.reshape((-1, 1, 32, 32))\n",
    "X_test = X_test.reshape((-1, 1, 32, 32))\n",
    "nb_classes = len(set(y_tr))\n",
    "y_train = np.eye(nb_classes)[y_tr.reshape(-1)]\n",
    "y_test = np.eye(nb_classes)[y_te.reshape(-1)]\n",
    "\n",
    "x_dim = X_train.shape[1:]\n",
    "y_dim = y_train.shape[1:]\n",
    "z_dim = 64"
   ]
  },
  {
   "cell_type": "code",
   "execution_count": 20,
   "metadata": {},
   "outputs": [
    {
     "name": "stdout",
     "output_type": "stream",
     "text": [
      "(60000, 1, 32, 32) (10000, 1, 32, 32)\n"
     ]
    }
   ],
   "source": [
    "print(X_train.shape, X_test.shape)"
   ]
  },
  {
   "cell_type": "markdown",
   "metadata": {},
   "source": [
    "#### Define architecture"
   ]
  },
  {
   "cell_type": "code",
   "execution_count": 21,
   "metadata": {},
   "outputs": [
    {
     "name": "stdout",
     "output_type": "stream",
     "text": [
      "Generator\n",
      "---------\n",
      "Input shape:  (74,)\n",
      "----------------------------------------------------------------\n",
      "        Layer (type)               Output Shape         Param #\n",
      "================================================================\n",
      "            Linear-1                  [-1, 256]          19,200\n",
      "      LayerReshape-2            [-1, 1, 16, 16]               0\n",
      "            Conv2d-3             [-1, 64, 8, 8]           1,664\n",
      "       BatchNorm2d-4             [-1, 64, 8, 8]             128\n",
      "         LeakyReLU-5             [-1, 64, 8, 8]               0\n",
      "            Conv2d-6            [-1, 128, 4, 4]         204,928\n",
      "       BatchNorm2d-7            [-1, 128, 4, 4]             256\n",
      "         LeakyReLU-8            [-1, 128, 4, 4]               0\n",
      "            Conv2d-9            [-1, 256, 4, 4]         295,168\n",
      "      BatchNorm2d-10            [-1, 256, 4, 4]             512\n",
      "        LeakyReLU-11            [-1, 256, 4, 4]               0\n",
      "  ConvTranspose2d-12            [-1, 128, 8, 8]         524,416\n",
      "      BatchNorm2d-13            [-1, 128, 8, 8]             256\n",
      "        LeakyReLU-14            [-1, 128, 8, 8]               0\n",
      "  ConvTranspose2d-15           [-1, 64, 16, 16]         131,136\n",
      "      BatchNorm2d-16           [-1, 64, 16, 16]             128\n",
      "        LeakyReLU-17           [-1, 64, 16, 16]               0\n",
      "  ConvTranspose2d-18           [-1, 32, 32, 32]          32,800\n",
      "      BatchNorm2d-19           [-1, 32, 32, 32]              64\n",
      "        LeakyReLU-20           [-1, 32, 32, 32]               0\n",
      "  ConvTranspose2d-21            [-1, 1, 32, 32]             289\n",
      "          Sigmoid-22            [-1, 1, 32, 32]               0\n",
      "      MyGenerator-23            [-1, 1, 32, 32]               0\n",
      "================================================================\n",
      "Total params: 1,210,945\n",
      "Trainable params: 1,210,945\n",
      "Non-trainable params: 0\n",
      "----------------------------------------------------------------\n",
      "Input size (MB): 0.00\n",
      "Forward/backward pass size (MB): 1.57\n",
      "Params size (MB): 4.62\n",
      "Estimated Total Size (MB): 6.19\n",
      "----------------------------------------------------------------\n",
      "\n",
      "\n",
      "\n",
      "Adversary\n",
      "---------\n",
      "Input shape:  (11, 32, 32)\n",
      "----------------------------------------------------------------\n",
      "        Layer (type)               Output Shape         Param #\n",
      "================================================================\n",
      "            Conv2d-1           [-1, 32, 32, 32]           3,200\n",
      "              ReLU-2           [-1, 32, 32, 32]               0\n",
      "            Conv2d-3           [-1, 64, 32, 32]          18,496\n",
      "              ReLU-4           [-1, 64, 32, 32]               0\n",
      "         MaxPool2d-5           [-1, 64, 16, 16]               0\n",
      "       BatchNorm2d-6           [-1, 64, 16, 16]             128\n",
      "            Conv2d-7          [-1, 128, 16, 16]          73,856\n",
      "              ReLU-8          [-1, 128, 16, 16]               0\n",
      "            Conv2d-9          [-1, 128, 16, 16]         147,584\n",
      "             ReLU-10          [-1, 128, 16, 16]               0\n",
      "        MaxPool2d-11            [-1, 128, 8, 8]               0\n",
      "      BatchNorm2d-12            [-1, 128, 8, 8]             256\n",
      "           Conv2d-13            [-1, 128, 8, 8]         147,584\n",
      "             ReLU-14            [-1, 128, 8, 8]               0\n",
      "           Conv2d-15             [-1, 64, 8, 8]          73,792\n",
      "             ReLU-16             [-1, 64, 8, 8]               0\n",
      "        MaxPool2d-17             [-1, 64, 4, 4]               0\n",
      "      BatchNorm2d-18             [-1, 64, 4, 4]             128\n",
      "           Conv2d-19              [-1, 1, 4, 4]             577\n",
      "          Sigmoid-20              [-1, 1, 4, 4]               0\n",
      "      MyAdversary-21              [-1, 1, 4, 4]               0\n",
      "================================================================\n",
      "Total params: 465,601\n",
      "Trainable params: 465,601\n",
      "Non-trainable params: 0\n",
      "----------------------------------------------------------------\n",
      "Input size (MB): 0.04\n",
      "Forward/backward pass size (MB): 3.08\n",
      "Params size (MB): 1.78\n",
      "Estimated Total Size (MB): 4.90\n",
      "----------------------------------------------------------------\n",
      "\n",
      "\n",
      "\n",
      "Hyperparameters\n",
      "---------------\n",
      "x_dim: ---> (1, 32, 32)\n",
      "z_dim: ---> 64\n",
      "ngpu: ---> None\n",
      "folder: ---> None\n",
      "optimizers: ---> {'Generator': Adam (\n",
      "Parameter Group 0\n",
      "    amsgrad: False\n",
      "    betas: (0.9, 0.999)\n",
      "    eps: 1e-08\n",
      "    lr: 0.001\n",
      "    weight_decay: 0\n",
      "), 'Adversary': Adam (\n",
      "Parameter Group 0\n",
      "    amsgrad: False\n",
      "    betas: (0.9, 0.999)\n",
      "    eps: 1e-08\n",
      "    lr: 0.001\n",
      "    weight_decay: 0\n",
      ")}\n",
      "device: ---> cpu\n",
      "loss_functions: ---> {'Generator': BCELoss(), 'Adversary': BCELoss()}\n",
      "y_dim: ---> (10,)\n"
     ]
    }
   ],
   "source": [
    "generator = loading.load_generator(x_dim=x_dim, z_dim=z_dim, y_dim=y_dim, which=\"mnist\")\n",
    "discriminator = loading.load_adversary(x_dim=x_dim, z_dim=z_dim, y_dim=y_dim, adv_type=\"Discriminator\", which=\"mnist\")\n",
    "\n",
    "gan_model = ConditionalVanillaGAN(\n",
    "    generator=generator, adversary=discriminator,\n",
    "    x_dim=x_dim, z_dim=z_dim, y_dim=y_dim,\n",
    "    optim=None, optim_kwargs=None,                # Optional\n",
    "    feature_layer=None,                           # Optional\n",
    "    fixed_noise_size=32,                          # Optional\n",
    "    device=None,                                  # Optional\n",
    "    ngpu=None,                                    # Optional\n",
    "    folder=None,                                  # Optional\n",
    "    secure=True                                   # Optional\n",
    ")\n",
    "gan_model.summary()"
   ]
  },
  {
   "cell_type": "markdown",
   "metadata": {},
   "source": [
    "#### Train model"
   ]
  },
  {
   "cell_type": "code",
   "execution_count": null,
   "metadata": {},
   "outputs": [],
   "source": [
    "gan_model.fit(\n",
    "    X_train=X_train,\n",
    "    y_train=y_train,\n",
    "    X_test=X_test,           # Optional\n",
    "    y_test=y_test,           # Optional\n",
    "    batch_size=32,           # Optional\n",
    "    epochs=2,                # Optional\n",
    "    steps=None,              # Optional\n",
    "    print_every=\"0.2e\",      # Optional\n",
    "    save_model_every=None,   # Optional\n",
    "    save_images_every=None,  # Optional\n",
    "    save_losses_every=10,    # Optional\n",
    "    enable_tensorboard=False # Optional\n",
    ")"
   ]
  },
  {
   "cell_type": "markdown",
   "metadata": {},
   "source": [
    "#### Evaluation"
   ]
  },
  {
   "cell_type": "code",
   "execution_count": null,
   "metadata": {},
   "outputs": [],
   "source": [
    "samples, losses = gan_model.get_training_results(by_epoch=False)\n",
    "\n",
    "fixed_labels = np.argmax(gan_model.get_fixed_labels(), axis=1)\n",
    "fig, axs = plot_images(images=samples, labels=fixed_labels, show=False)\n",
    "\n",
    "test_labels = np.eye(N=10)\n",
    "test_samples = gan_model.generate(y=test_labels)\n",
    "test_labels = np.argmax(test_labels, axis=1)\n",
    "fig, axs = plot_images(images=test_samples, labels=test_labels, show=False)"
   ]
  }
 ],
 "metadata": {
  "kernelspec": {
   "display_name": "Python 3",
   "language": "python",
   "name": "python3"
  },
  "language_info": {
   "codemirror_mode": {
    "name": "ipython",
    "version": 3
   },
   "file_extension": ".py",
   "mimetype": "text/x-python",
   "name": "python",
   "nbconvert_exporter": "python",
   "pygments_lexer": "ipython3",
   "version": "3.8.8"
  }
 },
 "nbformat": 4,
 "nbformat_minor": 4
}
