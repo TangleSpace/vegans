{
 "cells": [
  {
   "cell_type": "markdown",
   "metadata": {},
   "source": [
    "## Quick MNIST example\n",
    "\n",
    "#### Imports"
   ]
  },
  {
   "cell_type": "code",
   "execution_count": 1,
   "metadata": {},
   "outputs": [],
   "source": [
    "#from clearml import Task\n",
    "#task = Task.init('Private cluster', 'test3')\n",
    "#task.execute_remotely('gpu_support')"
   ]
  },
  {
   "cell_type": "code",
   "execution_count": 1,
   "metadata": {},
   "outputs": [],
   "source": [
    "import os\n",
    "import sys\n",
    "sys.path.insert(0, os.path.abspath(\"../..\"))\n",
    "\n",
    "import numpy as np\n",
    "import vegans.utils.loading as loading\n",
    "from vegans.utils.utils import plot_images\n",
    "from vegans.GAN import ConditionalVanillaGAN"
   ]
  },
  {
   "cell_type": "code",
   "execution_count": 2,
   "metadata": {},
   "outputs": [
    {
     "name": "stdout",
     "output_type": "stream",
     "text": [
      "Enabling notebook extension jupyter-js-widgets/extension...\n",
      "      - Validating: \u001b[32mOK\u001b[0m\n"
     ]
    }
   ],
   "source": [
    "#! pip install ipywidgets\n",
    "! jupyter nbextension enable --py widgetsnbextension"
   ]
  },
  {
   "cell_type": "markdown",
   "metadata": {},
   "source": [
    "#### Load Data"
   ]
  },
  {
   "cell_type": "code",
   "execution_count": 10,
   "metadata": {},
   "outputs": [
    {
     "name": "stdout",
     "output_type": "stream",
     "text": [
      "(60000, 32, 32) (10000, 32, 32)\n"
     ]
    }
   ],
   "source": [
    "root = \"../../data/\"\n",
    "X_train, y_tr, X_test, y_te = loading.load_data(root=root, which=\"mnist\", download=True)\n",
    "print(X_train.shape, X_test.shape)"
   ]
  },
  {
   "cell_type": "markdown",
   "metadata": {},
   "source": [
    "#### Preprocessing"
   ]
  },
  {
   "cell_type": "code",
   "execution_count": 13,
   "metadata": {},
   "outputs": [],
   "source": [
    "X_train = X_train.reshape((-1, 1, 32, 32))\n",
    "X_test = X_test.reshape((-1, 1, 32, 32))\n",
    "nb_classes = len(set(y_tr))\n",
    "y_train = np.eye(nb_classes)[y_tr.reshape(-1)]\n",
    "y_test = np.eye(nb_classes)[y_te.reshape(-1)]\n",
    "\n",
    "x_dim = X_train.shape[1:]\n",
    "y_dim = y_train.shape[1:]\n",
    "z_dim = 64"
   ]
  },
  {
   "cell_type": "code",
   "execution_count": 14,
   "metadata": {},
   "outputs": [
    {
     "name": "stdout",
     "output_type": "stream",
     "text": [
      "(500, 1, 32, 32) (10000, 1, 32, 32)\n"
     ]
    }
   ],
   "source": [
    "print(X_train.shape, X_test.shape)"
   ]
  },
  {
   "cell_type": "markdown",
   "metadata": {},
   "source": [
    "#### Define architecture"
   ]
  },
  {
   "cell_type": "code",
   "execution_count": null,
   "metadata": {},
   "outputs": [],
   "source": [
    "generator = loading.load_generator(x_dim=x_dim, z_dim=z_dim, y_dim=y_dim, which=\"mnist\")\n",
    "discriminator = loading.load_adversary(x_dim=x_dim, z_dim=z_dim, y_dim=y_dim, adv_type=\"Discriminator\", which=\"mnist\")\n",
    "\n",
    "gan_model = ConditionalVanillaGAN(\n",
    "    generator=generator, adversary=discriminator,\n",
    "    x_dim=x_dim, z_dim=z_dim, y_dim=y_dim,\n",
    "    optim=None, optim_kwargs=None,                # Optional\n",
    "    feature_layer=None,                           # Optional\n",
    "    fixed_noise_size=32,                          # Optional\n",
    "    device=None,                                  # Optional\n",
    "    ngpu=None,                                    # Optional\n",
    "    folder=None,                                  # Optional\n",
    "    secure=True                                   # Optional\n",
    ")\n",
    "gan_model.summary()"
   ]
  },
  {
   "cell_type": "markdown",
   "metadata": {},
   "source": [
    "#### Train model"
   ]
  },
  {
   "cell_type": "code",
   "execution_count": null,
   "metadata": {},
   "outputs": [],
   "source": [
    "gan_model.fit(\n",
    "    X_train=X_train,\n",
    "    y_train=y_train,\n",
    "    X_test=X_test,           # Optional\n",
    "    y_test=y_test,           # Optional\n",
    "    batch_size=32,           # Optional\n",
    "    epochs=2,                # Optional\n",
    "    steps=None,              # Optional\n",
    "    print_every=\"0.2e\",      # Optional\n",
    "    save_model_every=None,   # Optional\n",
    "    save_images_every=None,  # Optional\n",
    "    save_losses_every=10,    # Optional\n",
    "    enable_tensorboard=False # Optional\n",
    ")"
   ]
  },
  {
   "cell_type": "markdown",
   "metadata": {},
   "source": [
    "#### Evaluation"
   ]
  },
  {
   "cell_type": "code",
   "execution_count": null,
   "metadata": {},
   "outputs": [],
   "source": [
    "samples, losses = gan_model.get_training_results(by_epoch=False)\n",
    "\n",
    "fixed_labels = np.argmax(gan_model.get_fixed_labels(), axis=1)\n",
    "fig, axs = plot_images(images=samples, labels=fixed_labels, show=False)\n",
    "\n",
    "test_labels = np.eye(N=10)\n",
    "test_samples = gan_model.generate(y=test_labels)\n",
    "test_labels = np.argmax(test_labels, axis=1)\n",
    "fig, axs = plot_images(images=test_samples, labels=test_labels, show=False)"
   ]
  }
 ],
 "metadata": {
  "kernelspec": {
   "display_name": "Python 3",
   "language": "python",
   "name": "python3"
  },
  "language_info": {
   "codemirror_mode": {
    "name": "ipython",
    "version": 3
   },
   "file_extension": ".py",
   "mimetype": "text/x-python",
   "name": "python",
   "nbconvert_exporter": "python",
   "pygments_lexer": "ipython3",
   "version": "3.8.8"
  }
 },
 "nbformat": 4,
 "nbformat_minor": 4
}
